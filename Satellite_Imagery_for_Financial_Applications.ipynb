{
  "nbformat": 4,
  "nbformat_minor": 0,
  "metadata": {
    "colab": {
      "provenance": [],
      "include_colab_link": true
    },
    "kernelspec": {
      "name": "python3",
      "display_name": "Python 3"
    },
    "language_info": {
      "name": "python"
    }
  },
  "cells": [
    {
      "cell_type": "markdown",
      "metadata": {
        "id": "view-in-github",
        "colab_type": "text"
      },
      "source": [
        "<a href=\"https://colab.research.google.com/github/zulfiqaralimir/Geo-Spacial-Data/blob/master/Satellite_Imagery_for_Financial_Applications.ipynb\" target=\"_parent\"><img src=\"https://colab.research.google.com/assets/colab-badge.svg\" alt=\"Open In Colab\"/></a>"
      ]
    },
    {
      "cell_type": "markdown",
      "source": [
        "# **Satellite Imagery**"
      ],
      "metadata": {
        "id": "YVUgwQAw3Osc"
      }
    },
    {
      "cell_type": "markdown",
      "source": [
        "# **Satellite Imagery**\n",
        "\n",
        "|  |  |\n",
        "|:---|:---|\n",
        "|**Prior Knowledge** |Basic Python|\n",
        "|**Keywords** |Remote sensing, Electromagnetic spectrum, Spatial resolution\n",
        " |\n",
        "|  |  |"
      ],
      "metadata": {
        "id": "iGi4oVbT4wlW"
      }
    },
    {
      "cell_type": "markdown",
      "source": [
        "## **1. Introduction**\n",
        "\n",
        "We are going to introduce a type of data that we have not touched upon yet: **satellite imagery**. Traditionally, satellite images are the type of data used in natural sciences or the defense sector. However, in recent years, more and more financial analysts have been using satellite images to conduct analyses, hoping to gain extra insights on top of traditional financial analysis to make better financial decisions. We will use **Google Earth Engine** (GEE) to access some satellite images and provide examples of how we can use satellite images for analysis.\n",
        "\n",
        "## **2. Financial Application of Satellite Imagery**\n",
        "\n",
        "In this section, we are going to talk about how to incorporate satellite images as part of data for financial analysis.\n",
        "<br>\n",
        "\n",
        "##**First Application**\n",
        "One of the most famous cases of using satellite images for financial analysis is to use satellite images to count the number of cars in and out of **Walmart stores' parking lots** over a period of time. Financial analysts use this piece of information as a **proxy of foot traffic** to gauge the sales of the store during a specific period of time. This leads to the first application of using satellite images.\n",
        "<br>\n",
        "<br>\n",
        "### **2.1 Monitoring Economic Activities of a Location**\n",
        "The Walmart parking lot example is a classic application of satellite imagery. Another example is to use satellite images to monitor container ship traffic at a major canal or a major port to identify possible supply chain obstacles. We can also use satellite images to monitor factory sites to evaluate potential production levels of a certain time. We can also monitor a mining site to **track commodity production**.\n",
        "<br>\n",
        "<br>\n",
        "### **2.2 Tracking Crop Yield**\n",
        "We can use satellite images to study if a given crop, like wheat or corn, is healthy or not. From this information, financial analysts can estimate if the market is going to have an oversupply of a crop or a shortage of a crop and trade on this information. We usually would use a **combination of infrared bands** to conduct this analysis.\n",
        "<br>\n",
        "<br>\n",
        "###**2.3 Investigating Damages of Natural Disasters**\n",
        "**Insurance companies** now use satellite images to access damages from a flood or a wildfire. This method of gathering damage information is more effective than traditional methods of visiting the damage sites. First, the traditional method may require several months to gather data, but using satellite images only takes a few hours. Secondly, many damage sites are usually not accessible after a disaster, so the traditional method is not possible.\n",
        "With this new satellite image technology, insurance companies are able to process insurance claims faster and in more cost-effective ways.\n",
        "<br>\n",
        "<br>\n",
        "###**2.4 Constraints of Using Satellite Imagery for Financial Analysis**\n",
        "Currently, for the general public, there are a few issues when it comes to using satellite images for investment analysis.\n",
        "<br>\n",
        "<br>\n",
        "&nbsp;&nbsp;&nbsp;(A) The temporal resolutions for public available satellite images can be long. For example, Landsat 9 has a temporal resolution of 8 days. Many commercial satellites offer satellite images with short temporal resolution, like a day. However, they are **expensive**.\n",
        "<br>\n",
        "&nbsp;&nbsp;&nbsp;(B) Processing large amount of satellite images requires powerful computing infrastructure, which individuals usually don't have.\n",
        "<br>\n",
        "&nbsp;&nbsp;&nbsp;(C) Processing raw satellite images and converting them into usable images requires **special training**.\n",
        "<br>\n",
        "<br>\n",
        "Due to these constraints in using satellite images for analysis, there are many companies that now offer service to access their analytical platforms for satellite images with a subscription. These companies collect public and private satellite images, process them, and then upload them to their platforms. Their platforms generally incorporate machine learning capabilities for analysis. However, the fees to access these platforms are high, so only **hedge funds** or **big investment companies** can access them. Take the example of using *retail parking lot car traffic as an indicator for stock trading*. It is still a profitable trading strategy, but only hedge funds will have access to this information.\n",
        "\n",
        "\n",
        "## **3. The Basics of Satellite Imagery**\n",
        "\n",
        "### **3.1 Remote Sensing**\n",
        "\n",
        "Before talking about satellite images, we need to introduce a few concepts. The first is remote sensing. **Remote sensing** is the activity of using Earth observation satellites or airplanes equipped with sensors to obtain images and other information about the Earth's surface from above.   \n",
        "\n",
        "The sensors on a satellite measure **electromagnetic radiation (EMR)**, which is first emitted by the sun. Once it reaches Earth's surface, it is then reflected back to the sensors on the satellite. Figure 1 below demonstrates the path of EMR movement.\n",
        "<br>\n",
        "<br>\n",
        "**Figure 1: Illustration of How a Satellite Measures EMR Reflected from Earth's Surface**\n",
        "![alt text](https://drive.google.com/uc?id=1yxfc54aY2juMY-IF7NgYX_iMIjOcGd-w)\n",
        "<br>\n",
        "Adapted from: NASA EarthData. \"What Is Remote Sensing?\" 10 December 2024. https://www.earthdata.nasa.gov/learn/backgrounders/remote-sensing.\n",
        "<br>\n",
        "<br>\n",
        "\n",
        "### **3.2 Electromagnetic Spectrum**\n",
        "\n",
        "EMR is a type of energy that travels in waves. However, these waves are not homogeneous; they have different wavelengths. The wavelength of a wave is measured as the distance between two wave tops. If one wave has a shorter wavelength than the other waves, then this wave has a higher frequency because the wave moves up and down and then up again faster.\n",
        "<br>\n",
        "We group waves with similar wavelengths into a band called a **spectrum**. Figure 2 below shows how we group waves into different spectrums or bands by their wavelengths.\n",
        "<br>\n",
        "\n",
        "\n",
        "### **3.3 Spatial Resolution**\n",
        "When a satellite collects information from an observation area, it divides the area into a matrix or a grid. Each cell in the matrix is called a **pixel**. A cell is a square. If the cell is square that is 30 meters x 30 meters, then the resolution is 30 meters. The number represents the size of a pixel. Figure 5 demonstrates this concept.\n",
        "\n",
        "**Figure 5: Spatial Resolution**\n",
        "![alt text](https://drive.google.com/uc?id=1tYbEt25rjMQjFv5IYpPOxQVVlMdQv6NS)\n",
        "\n",
        "<br>\n",
        "\n",
        "<br>\n"
      ],
      "metadata": {
        "id": "O_lNFfBOHZVB"
      }
    },
    {
      "cell_type": "markdown",
      "source": [
        "## **4. Satellite Imagery Application: Google Earth Engine**\n",
        "We are going to use the Google Earth Engine (GEE) platform to retrieve satellite images and do some analysis. Google Earth Engine is a platform that we can use to conduct analysis for satellite images and other geospatial data. The GEE team has collected and processed publicly available historical satellite images from popular satellites and stores them in its Earth Engine data catalog. Hence, we don't need to spend time and effort to collect and process raw historical satellite images. GEE has a code editor user interface that allows users to retrieve and analyze satellite images. It also has a Python API. We will use the Python API to retrieve images and conduct analysis.\n",
        "<br>\n",
        "<br>\n",
        "### **4.1 Scenario: 2018 Northern California Camp Fire**\n",
        "On Thursday, November 8, 2018, a faulty electric transmission line caught fire in Butte County, California, in the United States. Due to strong downslope wind, the fire spread quickly and burned around 153,000 acres of land. It did not stop until November 25, 2018. The Camp Fire was the most expensive natural disaster in 2018. In this section, we are going to look at the satellite images before the fire, during the fire, and after the fire. We will also do one analysis to investigate the vegetation conditions before and after the fire.\n",
        "<br>\n",
        "<br>\n",
        "### **4.2 Set Up Google Earth Engine**\n",
        "\n",
        "<br>\n",
        "<br>"
      ],
      "metadata": {
        "id": "Ac4VRDec4pFX"
      }
    },
    {
      "cell_type": "markdown",
      "source": [
        "# **5. Python API Demonstration on Google Colab**\n",
        "\n"
      ],
      "metadata": {
        "id": "bElUTJ-Epe5l"
      }
    },
    {
      "cell_type": "markdown",
      "source": [
        "## **5.1 Load the Necessary Libraries for This Demonstration**#\n",
        "\n",
        "Access Python API for GEE."
      ],
      "metadata": {
        "id": "yumPFBkREeWw"
      }
    },
    {
      "cell_type": "code",
      "source": [
        "# pandas to handle tabular data and geopandas to handle geospatial data\n",
        "import pandas as pd\n",
        "import geopandas as gpd\n",
        "\n",
        "# earth engine\n",
        "import ee\n",
        "\n",
        "# Google earth engine map\n",
        "import geemap\n",
        "\n",
        "# allow images to display in the notebook\n",
        "from IPython.display import Image"
      ],
      "metadata": {
        "id": "ub9rsw-1Sc8E",
        "colab": {
          "base_uri": "https://localhost:8080/",
          "height": 17
        },
        "outputId": "0701edb0-c4ab-4b8b-e614-443569801abf"
      },
      "execution_count": 26,
      "outputs": [
        {
          "output_type": "display_data",
          "data": {
            "text/plain": [
              "<IPython.core.display.HTML object>"
            ],
            "text/html": [
              "\n",
              "            <style>\n",
              "                .geemap-dark {\n",
              "                    --jp-widgets-color: white;\n",
              "                    --jp-widgets-label-color: white;\n",
              "                    --jp-ui-font-color1: white;\n",
              "                    --jp-layout-color2: #454545;\n",
              "                    background-color: #383838;\n",
              "                }\n",
              "\n",
              "                .geemap-dark .jupyter-button {\n",
              "                    --jp-layout-color3: #383838;\n",
              "                }\n",
              "\n",
              "                .geemap-colab {\n",
              "                    background-color: var(--colab-primary-surface-color, white);\n",
              "                }\n",
              "\n",
              "                .geemap-colab .jupyter-button {\n",
              "                    --jp-layout-color3: var(--colab-primary-surface-color, white);\n",
              "                }\n",
              "            </style>\n",
              "            "
            ]
          },
          "metadata": {}
        }
      ]
    },
    {
      "cell_type": "markdown",
      "source": [
        "##**5.2 Access to Google Earth Engine**###\n",
        "We will use the following code to access Google Earth Engine's API."
      ],
      "metadata": {
        "id": "MF5yQtolcWHK"
      }
    },
    {
      "cell_type": "code",
      "source": [
        "# Start Google Earth Engine authentication process\n",
        "ee.Authenticate()\n",
        "\n",
        "# Initialize Google Earth Engine with the project ID you set up during the account set up step\n",
        "ee.Initialize(project='glassy-keyword-466113-d0')\n"
      ],
      "metadata": {
        "id": "L2QCQnOIcRUV",
        "colab": {
          "base_uri": "https://localhost:8080/",
          "height": 17
        },
        "outputId": "f9324233-4f1e-43f1-a76d-8de53a6b37c5"
      },
      "execution_count": 27,
      "outputs": [
        {
          "output_type": "display_data",
          "data": {
            "text/plain": [
              "<IPython.core.display.HTML object>"
            ],
            "text/html": [
              "\n",
              "            <style>\n",
              "                .geemap-dark {\n",
              "                    --jp-widgets-color: white;\n",
              "                    --jp-widgets-label-color: white;\n",
              "                    --jp-ui-font-color1: white;\n",
              "                    --jp-layout-color2: #454545;\n",
              "                    background-color: #383838;\n",
              "                }\n",
              "\n",
              "                .geemap-dark .jupyter-button {\n",
              "                    --jp-layout-color3: #383838;\n",
              "                }\n",
              "\n",
              "                .geemap-colab {\n",
              "                    background-color: var(--colab-primary-surface-color, white);\n",
              "                }\n",
              "\n",
              "                .geemap-colab .jupyter-button {\n",
              "                    --jp-layout-color3: var(--colab-primary-surface-color, white);\n",
              "                }\n",
              "            </style>\n",
              "            "
            ]
          },
          "metadata": {}
        }
      ]
    },
    {
      "cell_type": "markdown",
      "source": [
        "##**5.3 Set Up Filter Parameters**###\n",
        "Define the location of interest using latitude and longitude coordinates as well as a start and end period to pull satellite images. We can use Google Maps to find latitude and longitude coordinates for Butte County in California. Since the fire started on November 8, 2018, we will pull the images from October 2018 to December 2018."
      ],
      "metadata": {
        "id": "CYszOAACdoeK"
      }
    },
    {
      "cell_type": "code",
      "source": [
        "# coordinates of the Camp Fire\n",
        "lat =  39.444012\n",
        "lon = -121.833619\n",
        "\n",
        "# point of interest as an ee.Geometry\n",
        "poi = ee.Geometry.Point(lon,lat)\n",
        "\n",
        "# start date of range to filter for\n",
        "start_date = '2018-10-01'\n",
        "\n",
        "# end date\n",
        "end_date = '2019-01-31'\n"
      ],
      "metadata": {
        "id": "STylTawXdfT1",
        "colab": {
          "base_uri": "https://localhost:8080/",
          "height": 17
        },
        "outputId": "5b29b82b-d252-479f-c658-a2ebe847b6da"
      },
      "execution_count": 28,
      "outputs": [
        {
          "output_type": "display_data",
          "data": {
            "text/plain": [
              "<IPython.core.display.HTML object>"
            ],
            "text/html": [
              "\n",
              "            <style>\n",
              "                .geemap-dark {\n",
              "                    --jp-widgets-color: white;\n",
              "                    --jp-widgets-label-color: white;\n",
              "                    --jp-ui-font-color1: white;\n",
              "                    --jp-layout-color2: #454545;\n",
              "                    background-color: #383838;\n",
              "                }\n",
              "\n",
              "                .geemap-dark .jupyter-button {\n",
              "                    --jp-layout-color3: #383838;\n",
              "                }\n",
              "\n",
              "                .geemap-colab {\n",
              "                    background-color: var(--colab-primary-surface-color, white);\n",
              "                }\n",
              "\n",
              "                .geemap-colab .jupyter-button {\n",
              "                    --jp-layout-color3: var(--colab-primary-surface-color, white);\n",
              "                }\n",
              "            </style>\n",
              "            "
            ]
          },
          "metadata": {}
        }
      ]
    },
    {
      "cell_type": "markdown",
      "source": [
        "##**5.4 Retrieve Images from Google Earth Engine Data Catalog**\n",
        "We will retrieve the images from Landsat 8. The following link from Google Earth Engine provides information about this image collection from Landsat 8. It also provides the Python code snippet to pull the images shown in the following code.\n",
        "<br>\n",
        "https://developers.google.com/earth-engine/datasets/catalog/LANDSAT_LC08_C02_T1_L2\n"
      ],
      "metadata": {
        "id": "h_xz0LL1duji"
      }
    },
    {
      "cell_type": "code",
      "source": [
        "# get the satellite data\n",
        "landsat = ee.ImageCollection(\"LANDSAT/LC08/C02/T1_L2\")\\\n",
        "            .filterBounds(poi)\\\n",
        "            .filterDate(start_date,end_date)"
      ],
      "metadata": {
        "id": "w-_8pKfCdxji",
        "colab": {
          "base_uri": "https://localhost:8080/",
          "height": 17
        },
        "outputId": "75543126-83a3-4e9f-ae20-13038a81d190"
      },
      "execution_count": 29,
      "outputs": [
        {
          "output_type": "display_data",
          "data": {
            "text/plain": [
              "<IPython.core.display.HTML object>"
            ],
            "text/html": [
              "\n",
              "            <style>\n",
              "                .geemap-dark {\n",
              "                    --jp-widgets-color: white;\n",
              "                    --jp-widgets-label-color: white;\n",
              "                    --jp-ui-font-color1: white;\n",
              "                    --jp-layout-color2: #454545;\n",
              "                    background-color: #383838;\n",
              "                }\n",
              "\n",
              "                .geemap-dark .jupyter-button {\n",
              "                    --jp-layout-color3: #383838;\n",
              "                }\n",
              "\n",
              "                .geemap-colab {\n",
              "                    background-color: var(--colab-primary-surface-color, white);\n",
              "                }\n",
              "\n",
              "                .geemap-colab .jupyter-button {\n",
              "                    --jp-layout-color3: var(--colab-primary-surface-color, white);\n",
              "                }\n",
              "            </style>\n",
              "            "
            ]
          },
          "metadata": {}
        }
      ]
    },
    {
      "cell_type": "markdown",
      "source": [
        "##**5.5 Check the Image Information**\n",
        "Now we have downloaded the images. Let's review some information.\n",
        "First, let's take a look at how many images we got from the selection period. Landsat 8's temporal resolution is 16 days. Our selection period is 3 months. Hence, we should get at least 6 images. ((3*30)/16 = 5.6)"
      ],
      "metadata": {
        "id": "kTHHy5d5qdnT"
      }
    },
    {
      "cell_type": "code",
      "source": [
        "# Check how many images we get during the selection period.\n",
        "print('Total number:', landsat.size().getInfo())"
      ],
      "metadata": {
        "id": "qIQfDZIMd2ql",
        "colab": {
          "base_uri": "https://localhost:8080/",
          "height": 35
        },
        "outputId": "b40f6a44-df0f-4195-c305-27440f1a4461"
      },
      "execution_count": 30,
      "outputs": [
        {
          "output_type": "display_data",
          "data": {
            "text/plain": [
              "<IPython.core.display.HTML object>"
            ],
            "text/html": [
              "\n",
              "            <style>\n",
              "                .geemap-dark {\n",
              "                    --jp-widgets-color: white;\n",
              "                    --jp-widgets-label-color: white;\n",
              "                    --jp-ui-font-color1: white;\n",
              "                    --jp-layout-color2: #454545;\n",
              "                    background-color: #383838;\n",
              "                }\n",
              "\n",
              "                .geemap-dark .jupyter-button {\n",
              "                    --jp-layout-color3: #383838;\n",
              "                }\n",
              "\n",
              "                .geemap-colab {\n",
              "                    background-color: var(--colab-primary-surface-color, white);\n",
              "                }\n",
              "\n",
              "                .geemap-colab .jupyter-button {\n",
              "                    --jp-layout-color3: var(--colab-primary-surface-color, white);\n",
              "                }\n",
              "            </style>\n",
              "            "
            ]
          },
          "metadata": {}
        },
        {
          "output_type": "stream",
          "name": "stdout",
          "text": [
            "Total number: 8\n"
          ]
        }
      ]
    },
    {
      "cell_type": "markdown",
      "source": [
        "Next, we use the first image we pulled to see what information we can get."
      ],
      "metadata": {
        "id": "96e2zc8JuBor"
      }
    },
    {
      "cell_type": "code",
      "source": [
        "landsat.first().getInfo()"
      ],
      "metadata": {
        "id": "UXkCGwsUd5XT",
        "colab": {
          "base_uri": "https://localhost:8080/",
          "height": 1000
        },
        "outputId": "304d8218-84c4-4d79-8d32-c541d934f384"
      },
      "execution_count": 31,
      "outputs": [
        {
          "output_type": "display_data",
          "data": {
            "text/plain": [
              "<IPython.core.display.HTML object>"
            ],
            "text/html": [
              "\n",
              "            <style>\n",
              "                .geemap-dark {\n",
              "                    --jp-widgets-color: white;\n",
              "                    --jp-widgets-label-color: white;\n",
              "                    --jp-ui-font-color1: white;\n",
              "                    --jp-layout-color2: #454545;\n",
              "                    background-color: #383838;\n",
              "                }\n",
              "\n",
              "                .geemap-dark .jupyter-button {\n",
              "                    --jp-layout-color3: #383838;\n",
              "                }\n",
              "\n",
              "                .geemap-colab {\n",
              "                    background-color: var(--colab-primary-surface-color, white);\n",
              "                }\n",
              "\n",
              "                .geemap-colab .jupyter-button {\n",
              "                    --jp-layout-color3: var(--colab-primary-surface-color, white);\n",
              "                }\n",
              "            </style>\n",
              "            "
            ]
          },
          "metadata": {}
        },
        {
          "output_type": "execute_result",
          "data": {
            "text/plain": [
              "{'type': 'Image',\n",
              " 'bands': [{'id': 'SR_B1',\n",
              "   'data_type': {'type': 'PixelType',\n",
              "    'precision': 'int',\n",
              "    'min': 0,\n",
              "    'max': 65535},\n",
              "   'dimensions': [7661, 7791],\n",
              "   'crs': 'EPSG:32610',\n",
              "   'crs_transform': [30, 0, 500385, 0, -30, 4423215]},\n",
              "  {'id': 'SR_B2',\n",
              "   'data_type': {'type': 'PixelType',\n",
              "    'precision': 'int',\n",
              "    'min': 0,\n",
              "    'max': 65535},\n",
              "   'dimensions': [7661, 7791],\n",
              "   'crs': 'EPSG:32610',\n",
              "   'crs_transform': [30, 0, 500385, 0, -30, 4423215]},\n",
              "  {'id': 'SR_B3',\n",
              "   'data_type': {'type': 'PixelType',\n",
              "    'precision': 'int',\n",
              "    'min': 0,\n",
              "    'max': 65535},\n",
              "   'dimensions': [7661, 7791],\n",
              "   'crs': 'EPSG:32610',\n",
              "   'crs_transform': [30, 0, 500385, 0, -30, 4423215]},\n",
              "  {'id': 'SR_B4',\n",
              "   'data_type': {'type': 'PixelType',\n",
              "    'precision': 'int',\n",
              "    'min': 0,\n",
              "    'max': 65535},\n",
              "   'dimensions': [7661, 7791],\n",
              "   'crs': 'EPSG:32610',\n",
              "   'crs_transform': [30, 0, 500385, 0, -30, 4423215]},\n",
              "  {'id': 'SR_B5',\n",
              "   'data_type': {'type': 'PixelType',\n",
              "    'precision': 'int',\n",
              "    'min': 0,\n",
              "    'max': 65535},\n",
              "   'dimensions': [7661, 7791],\n",
              "   'crs': 'EPSG:32610',\n",
              "   'crs_transform': [30, 0, 500385, 0, -30, 4423215]},\n",
              "  {'id': 'SR_B6',\n",
              "   'data_type': {'type': 'PixelType',\n",
              "    'precision': 'int',\n",
              "    'min': 0,\n",
              "    'max': 65535},\n",
              "   'dimensions': [7661, 7791],\n",
              "   'crs': 'EPSG:32610',\n",
              "   'crs_transform': [30, 0, 500385, 0, -30, 4423215]},\n",
              "  {'id': 'SR_B7',\n",
              "   'data_type': {'type': 'PixelType',\n",
              "    'precision': 'int',\n",
              "    'min': 0,\n",
              "    'max': 65535},\n",
              "   'dimensions': [7661, 7791],\n",
              "   'crs': 'EPSG:32610',\n",
              "   'crs_transform': [30, 0, 500385, 0, -30, 4423215]},\n",
              "  {'id': 'SR_QA_AEROSOL',\n",
              "   'data_type': {'type': 'PixelType',\n",
              "    'precision': 'int',\n",
              "    'min': 0,\n",
              "    'max': 255},\n",
              "   'dimensions': [7661, 7791],\n",
              "   'crs': 'EPSG:32610',\n",
              "   'crs_transform': [30, 0, 500385, 0, -30, 4423215]},\n",
              "  {'id': 'ST_B10',\n",
              "   'data_type': {'type': 'PixelType',\n",
              "    'precision': 'int',\n",
              "    'min': 0,\n",
              "    'max': 65535},\n",
              "   'dimensions': [7661, 7791],\n",
              "   'crs': 'EPSG:32610',\n",
              "   'crs_transform': [30, 0, 500385, 0, -30, 4423215]},\n",
              "  {'id': 'ST_ATRAN',\n",
              "   'data_type': {'type': 'PixelType',\n",
              "    'precision': 'int',\n",
              "    'min': -32768,\n",
              "    'max': 32767},\n",
              "   'dimensions': [7661, 7791],\n",
              "   'crs': 'EPSG:32610',\n",
              "   'crs_transform': [30, 0, 500385, 0, -30, 4423215]},\n",
              "  {'id': 'ST_CDIST',\n",
              "   'data_type': {'type': 'PixelType',\n",
              "    'precision': 'int',\n",
              "    'min': -32768,\n",
              "    'max': 32767},\n",
              "   'dimensions': [7661, 7791],\n",
              "   'crs': 'EPSG:32610',\n",
              "   'crs_transform': [30, 0, 500385, 0, -30, 4423215]},\n",
              "  {'id': 'ST_DRAD',\n",
              "   'data_type': {'type': 'PixelType',\n",
              "    'precision': 'int',\n",
              "    'min': -32768,\n",
              "    'max': 32767},\n",
              "   'dimensions': [7661, 7791],\n",
              "   'crs': 'EPSG:32610',\n",
              "   'crs_transform': [30, 0, 500385, 0, -30, 4423215]},\n",
              "  {'id': 'ST_EMIS',\n",
              "   'data_type': {'type': 'PixelType',\n",
              "    'precision': 'int',\n",
              "    'min': -32768,\n",
              "    'max': 32767},\n",
              "   'dimensions': [7661, 7791],\n",
              "   'crs': 'EPSG:32610',\n",
              "   'crs_transform': [30, 0, 500385, 0, -30, 4423215]},\n",
              "  {'id': 'ST_EMSD',\n",
              "   'data_type': {'type': 'PixelType',\n",
              "    'precision': 'int',\n",
              "    'min': -32768,\n",
              "    'max': 32767},\n",
              "   'dimensions': [7661, 7791],\n",
              "   'crs': 'EPSG:32610',\n",
              "   'crs_transform': [30, 0, 500385, 0, -30, 4423215]},\n",
              "  {'id': 'ST_QA',\n",
              "   'data_type': {'type': 'PixelType',\n",
              "    'precision': 'int',\n",
              "    'min': -32768,\n",
              "    'max': 32767},\n",
              "   'dimensions': [7661, 7791],\n",
              "   'crs': 'EPSG:32610',\n",
              "   'crs_transform': [30, 0, 500385, 0, -30, 4423215]},\n",
              "  {'id': 'ST_TRAD',\n",
              "   'data_type': {'type': 'PixelType',\n",
              "    'precision': 'int',\n",
              "    'min': -32768,\n",
              "    'max': 32767},\n",
              "   'dimensions': [7661, 7791],\n",
              "   'crs': 'EPSG:32610',\n",
              "   'crs_transform': [30, 0, 500385, 0, -30, 4423215]},\n",
              "  {'id': 'ST_URAD',\n",
              "   'data_type': {'type': 'PixelType',\n",
              "    'precision': 'int',\n",
              "    'min': -32768,\n",
              "    'max': 32767},\n",
              "   'dimensions': [7661, 7791],\n",
              "   'crs': 'EPSG:32610',\n",
              "   'crs_transform': [30, 0, 500385, 0, -30, 4423215]},\n",
              "  {'id': 'QA_PIXEL',\n",
              "   'data_type': {'type': 'PixelType',\n",
              "    'precision': 'int',\n",
              "    'min': 0,\n",
              "    'max': 65535},\n",
              "   'dimensions': [7661, 7791],\n",
              "   'crs': 'EPSG:32610',\n",
              "   'crs_transform': [30, 0, 500385, 0, -30, 4423215]},\n",
              "  {'id': 'QA_RADSAT',\n",
              "   'data_type': {'type': 'PixelType',\n",
              "    'precision': 'int',\n",
              "    'min': 0,\n",
              "    'max': 65535},\n",
              "   'dimensions': [7661, 7791],\n",
              "   'crs': 'EPSG:32610',\n",
              "   'crs_transform': [30, 0, 500385, 0, -30, 4423215]}],\n",
              " 'version': 1629895720593702,\n",
              " 'id': 'LANDSAT/LC08/C02/T1_L2/LC08_044033_20181007',\n",
              " 'properties': {'DATA_SOURCE_ELEVATION': 'GLS2000',\n",
              "  'WRS_TYPE': 2,\n",
              "  'REFLECTANCE_ADD_BAND_1': -0.2,\n",
              "  'REFLECTANCE_ADD_BAND_2': -0.2,\n",
              "  'DATUM': 'WGS84',\n",
              "  'REFLECTANCE_ADD_BAND_3': -0.2,\n",
              "  'REFLECTANCE_ADD_BAND_4': -0.2,\n",
              "  'REFLECTANCE_ADD_BAND_5': -0.2,\n",
              "  'REFLECTANCE_ADD_BAND_6': -0.2,\n",
              "  'REFLECTANCE_ADD_BAND_7': -0.2,\n",
              "  'system:footprint': {'type': 'LinearRing',\n",
              "   'coordinates': [[-120.96945987441705, 37.85396978622024],\n",
              "    [-120.91758272903665, 37.84360095586152],\n",
              "    [-120.91091374989027, 37.84230108097053],\n",
              "    [-120.91032102754652, 37.84319081260253],\n",
              "    [-120.90026375188283, 37.87485737375912],\n",
              "    [-120.88601930375758, 37.91975025888466],\n",
              "    [-120.87475935368046, 37.95523294042605],\n",
              "    [-120.76830993328551, 38.28982473972092],\n",
              "    [-120.60616669159636, 38.7956184110626],\n",
              "    [-120.46920219411804, 39.21870028030481],\n",
              "    [-120.35829507594683, 39.55929948514903],\n",
              "    [-120.358940626908, 39.55982942717467],\n",
              "    [-120.3773619745756, 39.563471697339374],\n",
              "    [-121.13362575572384, 39.70944332250483],\n",
              "    [-122.47094597878574, 39.95415252966201],\n",
              "    [-122.47146231484521, 39.953369391342086],\n",
              "    [-122.47255137997769, 39.95009912185038],\n",
              "    [-122.97579676306593, 38.235899800160965],\n",
              "    [-122.97515026884432, 38.23538966186662],\n",
              "    [-122.83153924692401, 38.209342252115945],\n",
              "    [-120.96945987441705, 37.85396978622024]]},\n",
              "  'REFLECTIVE_SAMPLES': 7661,\n",
              "  'GROUND_CONTROL_POINTS_VERSION': 5,\n",
              "  'SUN_AZIMUTH': 156.37136574,\n",
              "  'DATA_SOURCE_TIRS_STRAY_LIGHT_CORRECTION': 'TIRS',\n",
              "  'UTM_ZONE': 10,\n",
              "  'DATE_ACQUIRED': '2018-10-07',\n",
              "  'ELLIPSOID': 'WGS84',\n",
              "  'system:time_end': 1538937928212,\n",
              "  'DATA_SOURCE_PRESSURE': 'Calculated',\n",
              "  'LANDSAT_PRODUCT_ID': 'LC08_L2SP_044033_20181007_20200830_02_T1',\n",
              "  'STATION_ID': 'LGN',\n",
              "  'TEMPERATURE_ADD_BAND_ST_B10': 149,\n",
              "  'DATA_SOURCE_REANALYSIS': 'GEOS-5 FP-IT',\n",
              "  'REFLECTANCE_MULT_BAND_7': 2.75e-05,\n",
              "  'system:time_start': 1538937928212,\n",
              "  'REFLECTANCE_MULT_BAND_6': 2.75e-05,\n",
              "  'L1_PROCESSING_LEVEL': 'L1TP',\n",
              "  'PROCESSING_SOFTWARE_VERSION': 'LPGS_15.3.1c',\n",
              "  'L1_DATE_PRODUCT_GENERATED': '2020-08-30T22:04:06Z',\n",
              "  'ORIENTATION': 'NORTH_UP',\n",
              "  'REFLECTANCE_MULT_BAND_1': 2.75e-05,\n",
              "  'WRS_ROW': 33,\n",
              "  'REFLECTANCE_MULT_BAND_3': 2.75e-05,\n",
              "  'REFLECTANCE_MULT_BAND_2': 2.75e-05,\n",
              "  'TARGET_WRS_ROW': 33,\n",
              "  'REFLECTANCE_MULT_BAND_5': 2.75e-05,\n",
              "  'REFLECTANCE_MULT_BAND_4': 2.75e-05,\n",
              "  'THERMAL_LINES': 7791,\n",
              "  'TIRS_SSM_POSITION_STATUS': 'ESTIMATED',\n",
              "  'GRID_CELL_SIZE_THERMAL': 30,\n",
              "  'IMAGE_QUALITY_TIRS': 9,\n",
              "  'TRUNCATION_OLI': 'UPPER',\n",
              "  'NADIR_OFFNADIR': 'NADIR',\n",
              "  'CLOUD_COVER': 0.05,\n",
              "  'REQUEST_ID': 'L2',\n",
              "  'EARTH_SUN_DISTANCE': 0.9993983,\n",
              "  'GEOMETRIC_RMSE_VERIFY': 3.028,\n",
              "  'TIRS_SSM_MODEL': 'FINAL',\n",
              "  'COLLECTION_CATEGORY': 'T1',\n",
              "  'SCENE_CENTER_TIME': '18:45:28.2127380Z',\n",
              "  'GRID_CELL_SIZE_REFLECTIVE': 30,\n",
              "  'SUN_ELEVATION': 42.62885674,\n",
              "  'ALGORITHM_SOURCE_SURFACE_TEMPERATURE': 'st_1.3.0',\n",
              "  'TEMPERATURE_MAXIMUM_BAND_ST_B10': 372.999941,\n",
              "  'CLOUD_COVER_LAND': 0.05,\n",
              "  'GEOMETRIC_RMSE_MODEL': 5.915,\n",
              "  'ROLL_ANGLE': -0.001,\n",
              "  'COLLECTION_NUMBER': 2,\n",
              "  'DATE_PRODUCT_GENERATED': 1598825983000,\n",
              "  'L1_REQUEST_ID': 'L2',\n",
              "  'DATA_SOURCE_OZONE': 'MODIS',\n",
              "  'SATURATION_BAND_1': 'Y',\n",
              "  'DATA_SOURCE_WATER_VAPOR': 'MODIS',\n",
              "  'SATURATION_BAND_2': 'Y',\n",
              "  'SATURATION_BAND_3': 'Y',\n",
              "  'IMAGE_QUALITY_OLI': 9,\n",
              "  'SATURATION_BAND_4': 'Y',\n",
              "  'LANDSAT_SCENE_ID': 'LC80440332018280LGN00',\n",
              "  'SATURATION_BAND_5': 'Y',\n",
              "  'MAP_PROJECTION': 'UTM',\n",
              "  'SATURATION_BAND_6': 'Y',\n",
              "  'SENSOR_ID': 'OLI_TIRS',\n",
              "  'SATURATION_BAND_7': 'Y',\n",
              "  'SATURATION_BAND_8': 'N',\n",
              "  'WRS_PATH': 44,\n",
              "  'SATURATION_BAND_9': 'N',\n",
              "  'TARGET_WRS_PATH': 44,\n",
              "  'L1_PROCESSING_SOFTWARE_VERSION': 'LPGS_15.3.1c',\n",
              "  'TEMPERATURE_MULT_BAND_ST_B10': 0.00341802,\n",
              "  'L1_LANDSAT_PRODUCT_ID': 'LC08_L1TP_044033_20181007_20200830_02_T1',\n",
              "  'PROCESSING_LEVEL': 'L2SP',\n",
              "  'ALGORITHM_SOURCE_SURFACE_REFLECTANCE': 'LaSRC_1.5.0',\n",
              "  'GROUND_CONTROL_POINTS_MODEL': 1318,\n",
              "  'SPACECRAFT_ID': 'LANDSAT_8',\n",
              "  'TEMPERATURE_MINIMUM_BAND_ST_B10': 149.003418,\n",
              "  'GEOMETRIC_RMSE_MODEL_Y': 4.945,\n",
              "  'REFLECTIVE_LINES': 7791,\n",
              "  'GEOMETRIC_RMSE_MODEL_X': 3.246,\n",
              "  'THERMAL_SAMPLES': 7661,\n",
              "  'system:asset_size': 965138511,\n",
              "  'DATA_SOURCE_AIR_TEMPERATURE': 'MODIS',\n",
              "  'GROUND_CONTROL_POINTS_VERIFY': 416,\n",
              "  'system:index': 'LC08_044033_20181007'}}"
            ]
          },
          "metadata": {},
          "execution_count": 31
        }
      ]
    },
    {
      "cell_type": "markdown",
      "source": [
        "One key element in satellite imagery is how much of the image is covered by clouds. An image with heavy cloud coverage will not provide much information for our analysis. We usually would like the cloud coverage of an image to be around or below 0.05. Let's take a look the scale of cloud coverage in the first image."
      ],
      "metadata": {
        "id": "cs6f7q82uPQ5"
      }
    },
    {
      "cell_type": "code",
      "source": [
        "landsat.first().get('CLOUD_COVER').getInfo()"
      ],
      "metadata": {
        "id": "qyTjgo0Fd8vT",
        "colab": {
          "base_uri": "https://localhost:8080/",
          "height": 35
        },
        "outputId": "ce12563a-db8e-4f9d-a57e-f5acc4a63dd9"
      },
      "execution_count": 32,
      "outputs": [
        {
          "output_type": "display_data",
          "data": {
            "text/plain": [
              "<IPython.core.display.HTML object>"
            ],
            "text/html": [
              "\n",
              "            <style>\n",
              "                .geemap-dark {\n",
              "                    --jp-widgets-color: white;\n",
              "                    --jp-widgets-label-color: white;\n",
              "                    --jp-ui-font-color1: white;\n",
              "                    --jp-layout-color2: #454545;\n",
              "                    background-color: #383838;\n",
              "                }\n",
              "\n",
              "                .geemap-dark .jupyter-button {\n",
              "                    --jp-layout-color3: #383838;\n",
              "                }\n",
              "\n",
              "                .geemap-colab {\n",
              "                    background-color: var(--colab-primary-surface-color, white);\n",
              "                }\n",
              "\n",
              "                .geemap-colab .jupyter-button {\n",
              "                    --jp-layout-color3: var(--colab-primary-surface-color, white);\n",
              "                }\n",
              "            </style>\n",
              "            "
            ]
          },
          "metadata": {}
        },
        {
          "output_type": "execute_result",
          "data": {
            "text/plain": [
              "0.05"
            ]
          },
          "metadata": {},
          "execution_count": 32
        }
      ]
    },
    {
      "cell_type": "markdown",
      "source": [
        "We can see the cloud coverage of the first image is 0.05, which is good. Now let's check when the first image was taken."
      ],
      "metadata": {
        "id": "Cy6OLDr5u21h"
      }
    },
    {
      "cell_type": "code",
      "source": [
        "landsat.first().get('DATE_ACQUIRED').getInfo()"
      ],
      "metadata": {
        "id": "zpru9TWLd_ky",
        "colab": {
          "base_uri": "https://localhost:8080/",
          "height": 36
        },
        "outputId": "f5c01053-64bc-446a-bea9-78f1a53186e2"
      },
      "execution_count": 33,
      "outputs": [
        {
          "output_type": "display_data",
          "data": {
            "text/plain": [
              "<IPython.core.display.HTML object>"
            ],
            "text/html": [
              "\n",
              "            <style>\n",
              "                .geemap-dark {\n",
              "                    --jp-widgets-color: white;\n",
              "                    --jp-widgets-label-color: white;\n",
              "                    --jp-ui-font-color1: white;\n",
              "                    --jp-layout-color2: #454545;\n",
              "                    background-color: #383838;\n",
              "                }\n",
              "\n",
              "                .geemap-dark .jupyter-button {\n",
              "                    --jp-layout-color3: #383838;\n",
              "                }\n",
              "\n",
              "                .geemap-colab {\n",
              "                    background-color: var(--colab-primary-surface-color, white);\n",
              "                }\n",
              "\n",
              "                .geemap-colab .jupyter-button {\n",
              "                    --jp-layout-color3: var(--colab-primary-surface-color, white);\n",
              "                }\n",
              "            </style>\n",
              "            "
            ]
          },
          "metadata": {}
        },
        {
          "output_type": "execute_result",
          "data": {
            "text/plain": [
              "'2018-10-07'"
            ],
            "application/vnd.google.colaboratory.intrinsic+json": {
              "type": "string"
            }
          },
          "metadata": {},
          "execution_count": 33
        }
      ]
    },
    {
      "cell_type": "markdown",
      "source": [
        "The next thing we can check is the band names we get."
      ],
      "metadata": {
        "id": "-EIHksLGeCOj"
      }
    },
    {
      "cell_type": "code",
      "source": [
        "landsat.first().bandNames().getInfo()"
      ],
      "metadata": {
        "id": "8DxiwoUkeDh1",
        "colab": {
          "base_uri": "https://localhost:8080/",
          "height": 362
        },
        "outputId": "99ead62b-396c-4d02-be68-fd489bdfb4ba"
      },
      "execution_count": 34,
      "outputs": [
        {
          "output_type": "display_data",
          "data": {
            "text/plain": [
              "<IPython.core.display.HTML object>"
            ],
            "text/html": [
              "\n",
              "            <style>\n",
              "                .geemap-dark {\n",
              "                    --jp-widgets-color: white;\n",
              "                    --jp-widgets-label-color: white;\n",
              "                    --jp-ui-font-color1: white;\n",
              "                    --jp-layout-color2: #454545;\n",
              "                    background-color: #383838;\n",
              "                }\n",
              "\n",
              "                .geemap-dark .jupyter-button {\n",
              "                    --jp-layout-color3: #383838;\n",
              "                }\n",
              "\n",
              "                .geemap-colab {\n",
              "                    background-color: var(--colab-primary-surface-color, white);\n",
              "                }\n",
              "\n",
              "                .geemap-colab .jupyter-button {\n",
              "                    --jp-layout-color3: var(--colab-primary-surface-color, white);\n",
              "                }\n",
              "            </style>\n",
              "            "
            ]
          },
          "metadata": {}
        },
        {
          "output_type": "execute_result",
          "data": {
            "text/plain": [
              "['SR_B1',\n",
              " 'SR_B2',\n",
              " 'SR_B3',\n",
              " 'SR_B4',\n",
              " 'SR_B5',\n",
              " 'SR_B6',\n",
              " 'SR_B7',\n",
              " 'SR_QA_AEROSOL',\n",
              " 'ST_B10',\n",
              " 'ST_ATRAN',\n",
              " 'ST_CDIST',\n",
              " 'ST_DRAD',\n",
              " 'ST_EMIS',\n",
              " 'ST_EMSD',\n",
              " 'ST_QA',\n",
              " 'ST_TRAD',\n",
              " 'ST_URAD',\n",
              " 'QA_PIXEL',\n",
              " 'QA_RADSAT']"
            ]
          },
          "metadata": {},
          "execution_count": 34
        }
      ]
    },
    {
      "cell_type": "markdown",
      "source": [
        "We see from the above code results that there are more than 11 bands we learned from the previous section. The band names with 'ST_' are all under one band. They are sub-bands for the Aerosol band."
      ],
      "metadata": {
        "id": "hxeX14dxwHo6"
      }
    },
    {
      "cell_type": "markdown",
      "source": [
        "##**5.6  Visualize Images**\n",
        "We are now ready to see the images we pulled. First, let's create labels for images to be used in the following visualization."
      ],
      "metadata": {
        "id": "1eqogE72xC4u"
      }
    },
    {
      "cell_type": "code",
      "source": [
        "# put the images in a list\n",
        "landsat_list = landsat.toList(landsat.size());\n",
        "\n",
        "#Create labels for images\n",
        "labels = [\"Image #\"+str(i)+\", \"+str(ee.Image(landsat_list.get(i)).get('DATE_ACQUIRED').getInfo())+\", Cloud cover:\"+ str(ee.Image(landsat_list.get(i)).get('CLOUD_COVER').getInfo()) for i in range(landsat.size().getInfo())]\n",
        "labels"
      ],
      "metadata": {
        "id": "z-RkCzMsw6p_",
        "colab": {
          "base_uri": "https://localhost:8080/",
          "height": 162
        },
        "outputId": "fcbbfacd-e0cf-4daa-e7c5-2766f7967337"
      },
      "execution_count": 35,
      "outputs": [
        {
          "output_type": "display_data",
          "data": {
            "text/plain": [
              "<IPython.core.display.HTML object>"
            ],
            "text/html": [
              "\n",
              "            <style>\n",
              "                .geemap-dark {\n",
              "                    --jp-widgets-color: white;\n",
              "                    --jp-widgets-label-color: white;\n",
              "                    --jp-ui-font-color1: white;\n",
              "                    --jp-layout-color2: #454545;\n",
              "                    background-color: #383838;\n",
              "                }\n",
              "\n",
              "                .geemap-dark .jupyter-button {\n",
              "                    --jp-layout-color3: #383838;\n",
              "                }\n",
              "\n",
              "                .geemap-colab {\n",
              "                    background-color: var(--colab-primary-surface-color, white);\n",
              "                }\n",
              "\n",
              "                .geemap-colab .jupyter-button {\n",
              "                    --jp-layout-color3: var(--colab-primary-surface-color, white);\n",
              "                }\n",
              "            </style>\n",
              "            "
            ]
          },
          "metadata": {}
        },
        {
          "output_type": "execute_result",
          "data": {
            "text/plain": [
              "['Image #0, 2018-10-07, Cloud cover:0.05',\n",
              " 'Image #1, 2018-10-23, Cloud cover:73.04',\n",
              " 'Image #2, 2018-11-08, Cloud cover:11.83',\n",
              " 'Image #3, 2018-11-24, Cloud cover:67.16',\n",
              " 'Image #4, 2018-12-10, Cloud cover:56.09',\n",
              " 'Image #5, 2018-12-26, Cloud cover:5.99',\n",
              " 'Image #6, 2019-01-11, Cloud cover:80.06',\n",
              " 'Image #7, 2019-01-27, Cloud cover:5.21']"
            ]
          },
          "metadata": {},
          "execution_count": 35
        }
      ]
    },
    {
      "cell_type": "markdown",
      "source": [
        "From the image labels, we can see we have 8 images from image 0 to image 7. We also see the dates they were taken on and their cloud coverage index."
      ],
      "metadata": {
        "id": "ssWUXJgaxpTJ"
      }
    },
    {
      "cell_type": "markdown",
      "source": [
        "Now let's define some parameters to display the images. We will use red, green, and blue bands to compose an image that resembles a photo. We will also define the pixel dimensions to show in our image. Last, we set the brightness by assigning min and max values. Assign values to min and max is a trial-and-error process. You need to play around with the number to get the appropriate brightness for images."
      ],
      "metadata": {
        "id": "hnbxuLCgiuYs"
      }
    },
    {
      "cell_type": "code",
      "source": [
        "parameters = {\n",
        "                'min': 7000,\n",
        "                'max': 16000,\n",
        "                'dimensions': 800, # square size in pixels\n",
        "                'bands': ['SR_B4', 'SR_B3', 'SR_B2'] # bands to display (r,g,b)\n",
        "             }"
      ],
      "metadata": {
        "id": "kONQSXlDixIm",
        "colab": {
          "base_uri": "https://localhost:8080/",
          "height": 17
        },
        "outputId": "5c8daa35-258a-4ce2-e763-89ed178ee80f"
      },
      "execution_count": 36,
      "outputs": [
        {
          "output_type": "display_data",
          "data": {
            "text/plain": [
              "<IPython.core.display.HTML object>"
            ],
            "text/html": [
              "\n",
              "            <style>\n",
              "                .geemap-dark {\n",
              "                    --jp-widgets-color: white;\n",
              "                    --jp-widgets-label-color: white;\n",
              "                    --jp-ui-font-color1: white;\n",
              "                    --jp-layout-color2: #454545;\n",
              "                    background-color: #383838;\n",
              "                }\n",
              "\n",
              "                .geemap-dark .jupyter-button {\n",
              "                    --jp-layout-color3: #383838;\n",
              "                }\n",
              "\n",
              "                .geemap-colab {\n",
              "                    background-color: var(--colab-primary-surface-color, white);\n",
              "                }\n",
              "\n",
              "                .geemap-colab .jupyter-button {\n",
              "                    --jp-layout-color3: var(--colab-primary-surface-color, white);\n",
              "                }\n",
              "            </style>\n",
              "            "
            ]
          },
          "metadata": {}
        }
      ]
    },
    {
      "cell_type": "markdown",
      "source": [
        "Now let's use geemap to display the first image overlayed on a map."
      ],
      "metadata": {
        "id": "LaF6MLqU0xZb"
      }
    },
    {
      "cell_type": "code",
      "source": [
        "Map = geemap.Map()\n",
        "\n",
        "first_image = landsat.first()\n",
        "\n",
        "Map.addLayer(first_image, parameters, \"First_Image\")\n",
        "Map.setCenter(lon,lat,8)\n",
        "#Map"
      ],
      "metadata": {
        "id": "xj9V40gy-rfY",
        "colab": {
          "base_uri": "https://localhost:8080/",
          "height": 17
        },
        "outputId": "c7e4e8d2-f047-4abc-ef77-7950e7297b48"
      },
      "execution_count": 37,
      "outputs": [
        {
          "output_type": "display_data",
          "data": {
            "text/plain": [
              "<IPython.core.display.HTML object>"
            ],
            "text/html": [
              "\n",
              "            <style>\n",
              "                .geemap-dark {\n",
              "                    --jp-widgets-color: white;\n",
              "                    --jp-widgets-label-color: white;\n",
              "                    --jp-ui-font-color1: white;\n",
              "                    --jp-layout-color2: #454545;\n",
              "                    background-color: #383838;\n",
              "                }\n",
              "\n",
              "                .geemap-dark .jupyter-button {\n",
              "                    --jp-layout-color3: #383838;\n",
              "                }\n",
              "\n",
              "                .geemap-colab {\n",
              "                    background-color: var(--colab-primary-surface-color, white);\n",
              "                }\n",
              "\n",
              "                .geemap-colab .jupyter-button {\n",
              "                    --jp-layout-color3: var(--colab-primary-surface-color, white);\n",
              "                }\n",
              "            </style>\n",
              "            "
            ]
          },
          "metadata": {}
        }
      ]
    },
    {
      "cell_type": "markdown",
      "source": [
        "From the above map, you can see the first image from our image collection. This is the image shot on November 7, 2018. You can move your cursor onto the map and move the map around. You can zoom in and out of the image by clicking the \"+\" or \"-\" icon on the left side of the map.\n",
        "<br>\n",
        "<br>"
      ],
      "metadata": {
        "id": "01K9mWWv1Gib"
      }
    },
    {
      "cell_type": "markdown",
      "source": [
        "We just saw how to display an image on the map. What if we want to interactively display other images in our collection on the map? We will create a new map and add a time series slider on the map to achieve this goal."
      ],
      "metadata": {
        "id": "LJFvjlPQ18E8"
      }
    },
    {
      "cell_type": "code",
      "source": [
        "image = landsat.toBands()\n",
        "\n",
        "Map2 = geemap.Map()\n",
        "Map2.addLayer(image,{},\"Time series\", False)\n",
        "Map2.setCenter(lon,lat,8)\n",
        "Map2.add_time_slider(landsat, parameters, labels = labels, time_interval=1)\n",
        "#Map2"
      ],
      "metadata": {
        "id": "-sY1AJ4VDs8o",
        "colab": {
          "base_uri": "https://localhost:8080/",
          "height": 17
        },
        "outputId": "afe19709-cbe7-4c4d-9b8f-00d08915eb83"
      },
      "execution_count": 38,
      "outputs": [
        {
          "output_type": "display_data",
          "data": {
            "text/plain": [
              "<IPython.core.display.HTML object>"
            ],
            "text/html": [
              "\n",
              "            <style>\n",
              "                .geemap-dark {\n",
              "                    --jp-widgets-color: white;\n",
              "                    --jp-widgets-label-color: white;\n",
              "                    --jp-ui-font-color1: white;\n",
              "                    --jp-layout-color2: #454545;\n",
              "                    background-color: #383838;\n",
              "                }\n",
              "\n",
              "                .geemap-dark .jupyter-button {\n",
              "                    --jp-layout-color3: #383838;\n",
              "                }\n",
              "\n",
              "                .geemap-colab {\n",
              "                    background-color: var(--colab-primary-surface-color, white);\n",
              "                }\n",
              "\n",
              "                .geemap-colab .jupyter-button {\n",
              "                    --jp-layout-color3: var(--colab-primary-surface-color, white);\n",
              "                }\n",
              "            </style>\n",
              "            "
            ]
          },
          "metadata": {}
        }
      ]
    },
    {
      "cell_type": "markdown",
      "source": [
        "We can see the new map has a slider on the lower right side of the map. **A note on using the slider:** Due to some technical issues, please do not use the \"Play the time slider\" button.\n",
        "\n",
        "On the slider, you can see the label of the first image (image #0) by the slider bar. If you move your cursor to the dot on the left of the slider bar, you will see the dot turns blue. You can then move the blue dot along the slider bar to see other images. The label will display the image information you are seeing on the map. For example, in image #3, there is heavy cloud cover, with the cloud coverage at 67, so most of what we see is white. If we move to image #5, its cloud coverage is 6, so we can get a better look at Earth's surface."
      ],
      "metadata": {
        "id": "lBZsHEkv3-gc"
      }
    },
    {
      "cell_type": "markdown",
      "source": [
        "##**5.7 Select and Zoom in on Cloudless Images**\n",
        "We have investigated all the images we pulled from the data catalog. Now we would like to select the ones we will use for analysis. We would like to select 3 cloudless images: one from before the fire, one during the fire, and one after the fire. We would also like to zoom in on the area we are interested in for each image. By investigating all 8 images, we can see image #0, image #2, and image #5 fit our selection criteria."
      ],
      "metadata": {
        "id": "YnAQSeLQ6Yvx"
      }
    },
    {
      "cell_type": "code",
      "source": [
        "#Select images we want and create a new image collection\n",
        "img1 = ee.Image(landsat_list.get(0))\n",
        "img2 = ee.Image(landsat_list.get(2))\n",
        "img3 = ee.Image(landsat_list.get(5))\n",
        "\n",
        "landsat_2 = ee.ImageCollection.fromImages([img1, img2, img3])\n",
        "print('Total number:', landsat_2.size().getInfo())"
      ],
      "metadata": {
        "id": "PC1QzkNjEScq",
        "colab": {
          "base_uri": "https://localhost:8080/",
          "height": 35
        },
        "outputId": "af97a99f-69d7-42ef-ba2d-ab88b7897451"
      },
      "execution_count": 39,
      "outputs": [
        {
          "output_type": "display_data",
          "data": {
            "text/plain": [
              "<IPython.core.display.HTML object>"
            ],
            "text/html": [
              "\n",
              "            <style>\n",
              "                .geemap-dark {\n",
              "                    --jp-widgets-color: white;\n",
              "                    --jp-widgets-label-color: white;\n",
              "                    --jp-ui-font-color1: white;\n",
              "                    --jp-layout-color2: #454545;\n",
              "                    background-color: #383838;\n",
              "                }\n",
              "\n",
              "                .geemap-dark .jupyter-button {\n",
              "                    --jp-layout-color3: #383838;\n",
              "                }\n",
              "\n",
              "                .geemap-colab {\n",
              "                    background-color: var(--colab-primary-surface-color, white);\n",
              "                }\n",
              "\n",
              "                .geemap-colab .jupyter-button {\n",
              "                    --jp-layout-color3: var(--colab-primary-surface-color, white);\n",
              "                }\n",
              "            </style>\n",
              "            "
            ]
          },
          "metadata": {}
        },
        {
          "output_type": "stream",
          "name": "stdout",
          "text": [
            "Total number: 3\n"
          ]
        }
      ]
    },
    {
      "cell_type": "markdown",
      "source": [
        "Now we create new labels for a new collection of images. We also update our new visualization parameters."
      ],
      "metadata": {
        "id": "EbY0bmLTIbT9"
      }
    },
    {
      "cell_type": "code",
      "source": [
        "# Create a new list\n",
        "landsat_list_2 = landsat_2.toList(landsat_2.size())\n",
        "\n",
        "# Define a region of interest with a buffer zone\n",
        "roi = poi.buffer(20000) # meters\n",
        "\n",
        "# New visualization parameters\n",
        "parameters_2 = {\n",
        "                'min': 6000,\n",
        "                'max': 16000,\n",
        "                'dimensions': 800,\n",
        "                'bands': ['SR_B4', 'SR_B3', 'SR_B2'],\n",
        "                'region':roi\n",
        "             }\n",
        "\n",
        "#Create new labels for images\n",
        "labels_2 = [\"Image #\"+str(i)+\", \"+str(ee.Image(landsat_list_2.get(i)).get('DATE_ACQUIRED').getInfo())+\", Cloud cover:\"+ str(ee.Image(landsat_list_2.get(i)).get('CLOUD_COVER').getInfo()) for i in range(landsat_2.size().getInfo())]\n",
        "labels_2"
      ],
      "metadata": {
        "id": "2lg35dxUjXdb",
        "colab": {
          "base_uri": "https://localhost:8080/",
          "height": 71
        },
        "outputId": "88c7eb4e-0719-4579-fc6b-fac16042b341"
      },
      "execution_count": 40,
      "outputs": [
        {
          "output_type": "display_data",
          "data": {
            "text/plain": [
              "<IPython.core.display.HTML object>"
            ],
            "text/html": [
              "\n",
              "            <style>\n",
              "                .geemap-dark {\n",
              "                    --jp-widgets-color: white;\n",
              "                    --jp-widgets-label-color: white;\n",
              "                    --jp-ui-font-color1: white;\n",
              "                    --jp-layout-color2: #454545;\n",
              "                    background-color: #383838;\n",
              "                }\n",
              "\n",
              "                .geemap-dark .jupyter-button {\n",
              "                    --jp-layout-color3: #383838;\n",
              "                }\n",
              "\n",
              "                .geemap-colab {\n",
              "                    background-color: var(--colab-primary-surface-color, white);\n",
              "                }\n",
              "\n",
              "                .geemap-colab .jupyter-button {\n",
              "                    --jp-layout-color3: var(--colab-primary-surface-color, white);\n",
              "                }\n",
              "            </style>\n",
              "            "
            ]
          },
          "metadata": {}
        },
        {
          "output_type": "execute_result",
          "data": {
            "text/plain": [
              "['Image #0, 2018-10-07, Cloud cover:0.05',\n",
              " 'Image #1, 2018-11-08, Cloud cover:11.83',\n",
              " 'Image #2, 2018-12-26, Cloud cover:5.99']"
            ]
          },
          "metadata": {},
          "execution_count": 40
        }
      ]
    },
    {
      "cell_type": "code",
      "source": [
        "image2 = landsat_2.toBands()\n",
        "\n",
        "Map3 = geemap.Map()\n",
        "Map3.addLayer(image2,{},\"Time series\", False)\n",
        "Map3.setCenter(lon,lat,8)\n",
        "Map3.add_time_slider(landsat_2, parameters_2, labels = labels_2, time_interval=1)\n",
        "#Map3"
      ],
      "metadata": {
        "id": "Ts-guiM_aS9d",
        "colab": {
          "base_uri": "https://localhost:8080/",
          "height": 17
        },
        "outputId": "a044355d-094c-41f7-fce8-c246a4e0b322"
      },
      "execution_count": 41,
      "outputs": [
        {
          "output_type": "display_data",
          "data": {
            "text/plain": [
              "<IPython.core.display.HTML object>"
            ],
            "text/html": [
              "\n",
              "            <style>\n",
              "                .geemap-dark {\n",
              "                    --jp-widgets-color: white;\n",
              "                    --jp-widgets-label-color: white;\n",
              "                    --jp-ui-font-color1: white;\n",
              "                    --jp-layout-color2: #454545;\n",
              "                    background-color: #383838;\n",
              "                }\n",
              "\n",
              "                .geemap-dark .jupyter-button {\n",
              "                    --jp-layout-color3: #383838;\n",
              "                }\n",
              "\n",
              "                .geemap-colab {\n",
              "                    background-color: var(--colab-primary-surface-color, white);\n",
              "                }\n",
              "\n",
              "                .geemap-colab .jupyter-button {\n",
              "                    --jp-layout-color3: var(--colab-primary-surface-color, white);\n",
              "                }\n",
              "            </style>\n",
              "            "
            ]
          },
          "metadata": {}
        }
      ]
    },
    {
      "cell_type": "markdown",
      "source": [
        "We can see that the upper corner of the middle image does show the fire. However, it is still hard to see the impact of the fire when comparing the first image to the last image. Let's introduce an NDVI index to better study the damage."
      ],
      "metadata": {
        "id": "RbdE5xPVJcqU"
      }
    },
    {
      "cell_type": "markdown",
      "source": [
        "##**5.8 Normalized Difference Vegetation Index (NDVI)**\n",
        "The Normalized Difference Vegetation Index (NDVI) is an index to study plant health. This index is calculated by using reflected light from the red band and near infrared band of satellite images. The higher the index number means the plants are healthier and greener. The lower the index number means the plants are browner and less healthy. The concept is illustrated in Figure 7.\n",
        "<br>\n",
        "<br>\n",
        "**Figure 7. NDVI Illustration**\n",
        "![alt text](https://drive.google.com/uc?id=1sQF7SKkFZGfL-dSvY_EiubYPBd4_44km)\n",
        "<br>\n",
        "<br>\n",
        "In the following section, we will turn our three images into NDVI images. Each pixel will have an NDVI number. A pixel with a high NDVI number will be painted green. A pixel with a low NDVI number will be painted red. If the NDVI number is in between, the pixel will be painted yellow.\n",
        "\n"
      ],
      "metadata": {
        "id": "H-mJXTrXLVlH"
      }
    },
    {
      "cell_type": "markdown",
      "source": [
        "First, let's calculate NDVI numbers for each image."
      ],
      "metadata": {
        "id": "slNVrMdMSswQ"
      }
    },
    {
      "cell_type": "code",
      "source": [
        "#Calculate NDVI for each image\n",
        "img_ndvi_1 = ee.Image(landsat_list_2.get(0)).normalizedDifference(['SR_B5', 'SR_B4'])\n",
        "img_ndvi_2 = ee.Image(landsat_list_2.get(1)).normalizedDifference(['SR_B5', 'SR_B4'])\n",
        "img_ndvi_3 = ee.Image(landsat_list_2.get(2)).normalizedDifference(['SR_B5', 'SR_B4'])\n",
        "\n",
        "landsat_3 = ee.ImageCollection.fromImages([img_ndvi_1, img_ndvi_2, img_ndvi_3])\n",
        "print('Total number:', landsat_3.size().getInfo())"
      ],
      "metadata": {
        "id": "8IoazdJyjhc-",
        "colab": {
          "base_uri": "https://localhost:8080/",
          "height": 35
        },
        "outputId": "37a48f9f-6470-4c76-f136-2cf3e5b43f40"
      },
      "execution_count": 42,
      "outputs": [
        {
          "output_type": "display_data",
          "data": {
            "text/plain": [
              "<IPython.core.display.HTML object>"
            ],
            "text/html": [
              "\n",
              "            <style>\n",
              "                .geemap-dark {\n",
              "                    --jp-widgets-color: white;\n",
              "                    --jp-widgets-label-color: white;\n",
              "                    --jp-ui-font-color1: white;\n",
              "                    --jp-layout-color2: #454545;\n",
              "                    background-color: #383838;\n",
              "                }\n",
              "\n",
              "                .geemap-dark .jupyter-button {\n",
              "                    --jp-layout-color3: #383838;\n",
              "                }\n",
              "\n",
              "                .geemap-colab {\n",
              "                    background-color: var(--colab-primary-surface-color, white);\n",
              "                }\n",
              "\n",
              "                .geemap-colab .jupyter-button {\n",
              "                    --jp-layout-color3: var(--colab-primary-surface-color, white);\n",
              "                }\n",
              "            </style>\n",
              "            "
            ]
          },
          "metadata": {}
        },
        {
          "output_type": "stream",
          "name": "stdout",
          "text": [
            "Total number: 3\n"
          ]
        }
      ]
    },
    {
      "cell_type": "markdown",
      "source": [
        "Then, we'll set up the new color palette and NDVI visualization parameters."
      ],
      "metadata": {
        "id": "rcOTYTYGS1OM"
      }
    },
    {
      "cell_type": "code",
      "source": [
        "# Create a new list\n",
        "landsat_list_3 = landsat_3.toList(landsat_3.size())\n",
        "\n",
        "# ndvi palette: red is low, green is high vegetation\n",
        "palette = ['red', 'yellow', 'green']\n",
        "\n",
        "ndvi_parameters = {'min': 0,\n",
        "                   'max': 0.4,\n",
        "                   'dimensions': 512,\n",
        "                   'palette': palette,\n",
        "                   'region': roi}\n"
      ],
      "metadata": {
        "id": "rYqh-eVsN7lF",
        "colab": {
          "base_uri": "https://localhost:8080/",
          "height": 17
        },
        "outputId": "386e9e8e-131a-4390-ecb6-198b470becac"
      },
      "execution_count": 43,
      "outputs": [
        {
          "output_type": "display_data",
          "data": {
            "text/plain": [
              "<IPython.core.display.HTML object>"
            ],
            "text/html": [
              "\n",
              "            <style>\n",
              "                .geemap-dark {\n",
              "                    --jp-widgets-color: white;\n",
              "                    --jp-widgets-label-color: white;\n",
              "                    --jp-ui-font-color1: white;\n",
              "                    --jp-layout-color2: #454545;\n",
              "                    background-color: #383838;\n",
              "                }\n",
              "\n",
              "                .geemap-dark .jupyter-button {\n",
              "                    --jp-layout-color3: #383838;\n",
              "                }\n",
              "\n",
              "                .geemap-colab {\n",
              "                    background-color: var(--colab-primary-surface-color, white);\n",
              "                }\n",
              "\n",
              "                .geemap-colab .jupyter-button {\n",
              "                    --jp-layout-color3: var(--colab-primary-surface-color, white);\n",
              "                }\n",
              "            </style>\n",
              "            "
            ]
          },
          "metadata": {}
        }
      ]
    },
    {
      "cell_type": "markdown",
      "source": [
        "Now let's display the NDVI images."
      ],
      "metadata": {
        "id": "1c3DOq8eS9ge"
      }
    },
    {
      "cell_type": "code",
      "source": [
        "image3 = landsat_3.toBands()\n",
        "\n",
        "Map4 = geemap.Map()\n",
        "Map4.addLayer(image3,{},\"Time series\", False)\n",
        "Map4.setCenter(lon,lat,8)\n",
        "Map4.add_time_slider(landsat_3, ndvi_parameters, labels = labels_2, time_interval=1)\n",
        "#Map4"
      ],
      "metadata": {
        "id": "d6FgZ76OORJ2",
        "colab": {
          "base_uri": "https://localhost:8080/",
          "height": 17
        },
        "outputId": "d9da2529-7a93-480c-c0c4-84ae4c0c260d"
      },
      "execution_count": 44,
      "outputs": [
        {
          "output_type": "display_data",
          "data": {
            "text/plain": [
              "<IPython.core.display.HTML object>"
            ],
            "text/html": [
              "\n",
              "            <style>\n",
              "                .geemap-dark {\n",
              "                    --jp-widgets-color: white;\n",
              "                    --jp-widgets-label-color: white;\n",
              "                    --jp-ui-font-color1: white;\n",
              "                    --jp-layout-color2: #454545;\n",
              "                    background-color: #383838;\n",
              "                }\n",
              "\n",
              "                .geemap-dark .jupyter-button {\n",
              "                    --jp-layout-color3: #383838;\n",
              "                }\n",
              "\n",
              "                .geemap-colab {\n",
              "                    background-color: var(--colab-primary-surface-color, white);\n",
              "                }\n",
              "\n",
              "                .geemap-colab .jupyter-button {\n",
              "                    --jp-layout-color3: var(--colab-primary-surface-color, white);\n",
              "                }\n",
              "            </style>\n",
              "            "
            ]
          },
          "metadata": {}
        }
      ]
    },
    {
      "cell_type": "markdown",
      "source": [
        "From the above interactive NDVI images, let's focus on the upper middle part of each image. Let's start with image #0.\n",
        "\n",
        "In image #0, the area contains a mixture of green, yellow, and red. This image was taken before the Camp Fire. In image #1, we can see a big swath of red running across the area from right to left and going down. This image was taken during the Camp Fire. The red area is where the fire was. Now let's look at image #3, which was taken after the Camp Fire. In image #3, we can see a big red area in the upper middle part and some on the upper left side of the image. To summarize, with NDVI images, we can better identify changes in the vegetation on Earth's surface."
      ],
      "metadata": {
        "id": "cdWYm1yFc1OJ"
      }
    },
    {
      "cell_type": "markdown",
      "source": [
        "## **6. Conclusion**\n",
        "In this lesson, we first learned the basics of remote sensing, the method to obtain satellite images. We then went through the fundamentals of satellite images, including the electromagnetic spectrum, spatial resolution, and commonly used satellites. We then introduced some use cases for applying satellite images to finance analyses. We finished the lesson by using Google Earth Engine's Python API to pull some satellite images and conducted some analysis. We learned to use NDVI images to investigate the vegetation damage after the 2018 Camp Fire in California."
      ],
      "metadata": {
        "id": "di8BpMzLkMR-"
      }
    },
    {
      "cell_type": "markdown",
      "source": [
        "###**References**\n",
        "* NASA EarthData. \"Remote Sensing.\" 10 December 2024. https://www.earthdata.nasa.gov/learn/backgrounders/remote-sensing.\n",
        "\n",
        "* UCLA Office of Advanced Research Computing. \"Introduction to Remote Sensing With Python.\" *YouTube*, 9 Feb 2022, https://www.youtube.com/watch?v=gi4UdFsayoM."
      ],
      "metadata": {
        "id": "NaeoQbgGmsnl"
      }
    }
  ]
}